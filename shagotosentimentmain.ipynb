{
  "nbformat": 4,
  "nbformat_minor": 0,
  "metadata": {
    "colab": {
      "provenance": []
    },
    "kernelspec": {
      "name": "python3",
      "display_name": "Python 3"
    }
  },
  "cells": [
    {
      "cell_type": "code",
      "metadata": {
        "id": "48vUVQIvzvte"
      },
      "source": [
        "import numpy as np\n",
        "import matplotlib.pyplot as plt\n",
        "%matplotlib inline\n",
        "import pandas as pd\n",
        "import seaborn as sns\n",
        "import re,nltk,json, pickle\n",
        "import tensorflow as tf\n",
        "from tensorflow import keras\n",
        "from tensorflow.keras import regularizers\n",
        "from tensorflow.keras.preprocessing.sequence import pad_sequences\n",
        "from tensorflow.keras.layers import LSTM,GRU\n",
        "from tensorflow.keras.models import load_model\n",
        "from sklearn.metrics import confusion_matrix\n",
        "from sklearn.metrics import classification_report\n",
        "from sklearn.model_selection import train_test_split\n",
        "from sklearn.metrics import accuracy_score,precision_score,recall_score,f1_score,roc_auc_score\n",
        "from sklearn.preprocessing import LabelEncoder\n",
        "from tensorflow.keras.preprocessing.text import Tokenizer\n",
        "np.random.seed(42)\n",
        "class color: # Text style\n",
        "   PURPLE = '\\033[95m'\n",
        "   CYAN = '\\033[96m'\n",
        "   DARKCYAN = '\\033[36m'\n",
        "   BLUE = '\\033[94m'\n",
        "   GREEN = '\\033[92m'\n",
        "   YELLOW = '\\033[93m'\n",
        "   RED = '\\033[91m'\n",
        "   BOLD = '\\033[1m'\n",
        "   UNDERLINE = '\\033[4m'\n",
        "   END = '\\033[0m'\n",
        "# Warnings\n",
        "import warnings\n",
        "warnings.simplefilter(action='ignore', category=FutureWarning)\n",
        "# dataset path\n",
        "\n"
      ],
      "execution_count": null,
      "outputs": []
    },
    {
      "cell_type": "code",
      "metadata": {
        "id": "225hwqTDYrgx"
      },
      "source": [
        "def cleaning_documents(labels):\n",
        "    if labels==1.0:\n",
        "        newlab='real'\n",
        "    else:\n",
        "        newlab='fake'\n",
        "    return newlab"
      ],
      "execution_count": null,
      "outputs": []
    },
    {
      "cell_type": "code",
      "metadata": {
        "id": "8JFBB3DMYesc"
      },
      "source": [
        "data['newlabel1'] = data['label'].apply(cleaning_documents)"
      ],
      "execution_count": null,
      "outputs": []
    },
    {
      "cell_type": "code",
      "metadata": {
        "id": "AhkevCsLYhdR",
        "colab": {
          "base_uri": "https://localhost:8080/",
          "height": 419
        },
        "outputId": "4020055c-ddf5-484d-e26b-b17cd3fc4dcc"
      },
      "source": [
        "data"
      ],
      "execution_count": null,
      "outputs": [
        {
          "output_type": "execute_result",
          "data": {
            "text/html": [
              "<div>\n",
              "<style scoped>\n",
              "    .dataframe tbody tr th:only-of-type {\n",
              "        vertical-align: middle;\n",
              "    }\n",
              "\n",
              "    .dataframe tbody tr th {\n",
              "        vertical-align: top;\n",
              "    }\n",
              "\n",
              "    .dataframe thead th {\n",
              "        text-align: right;\n",
              "    }\n",
              "</style>\n",
              "<table border=\"1\" class=\"dataframe\">\n",
              "  <thead>\n",
              "    <tr style=\"text-align: right;\">\n",
              "      <th></th>\n",
              "      <th>Unnamed: 0</th>\n",
              "      <th>content</th>\n",
              "      <th>label</th>\n",
              "      <th>newlabel</th>\n",
              "      <th>newlabel1</th>\n",
              "    </tr>\n",
              "  </thead>\n",
              "  <tbody>\n",
              "    <tr>\n",
              "      <th>0</th>\n",
              "      <td>0</td>\n",
              "      <td>ক্রিকেট বিশ্বের নতুন চমকের নাম আফগানিস্তান। কয়...</td>\n",
              "      <td>1.0</td>\n",
              "      <td>fake</td>\n",
              "      <td>real</td>\n",
              "    </tr>\n",
              "    <tr>\n",
              "      <th>1</th>\n",
              "      <td>1</td>\n",
              "      <td>এশিয়া কাপের ষষ্ঠ ম্যাচে বাংলাদেশ দলের বিপক্ষে ...</td>\n",
              "      <td>0.0</td>\n",
              "      <td>fake</td>\n",
              "      <td>fake</td>\n",
              "    </tr>\n",
              "    <tr>\n",
              "      <th>2</th>\n",
              "      <td>2</td>\n",
              "      <td>রাজধানীতে মাদক বিরোধী বিশেষ অভিযান পরিচালনা কর...</td>\n",
              "      <td>1.0</td>\n",
              "      <td>fake</td>\n",
              "      <td>real</td>\n",
              "    </tr>\n",
              "    <tr>\n",
              "      <th>3</th>\n",
              "      <td>3</td>\n",
              "      <td>সনাতন ধর্মাবলম্বীদের সবচেয়ে বড় ধর্মীয় উৎসব দুর...</td>\n",
              "      <td>1.0</td>\n",
              "      <td>fake</td>\n",
              "      <td>real</td>\n",
              "    </tr>\n",
              "    <tr>\n",
              "      <th>4</th>\n",
              "      <td>4</td>\n",
              "      <td>ভারত থেকে পাইপ লাইনের মাধ্যমে সরাসরি দেশে জ্বা...</td>\n",
              "      <td>0.0</td>\n",
              "      <td>fake</td>\n",
              "      <td>fake</td>\n",
              "    </tr>\n",
              "    <tr>\n",
              "      <th>...</th>\n",
              "      <td>...</td>\n",
              "      <td>...</td>\n",
              "      <td>...</td>\n",
              "      <td>...</td>\n",
              "      <td>...</td>\n",
              "    </tr>\n",
              "    <tr>\n",
              "      <th>7197</th>\n",
              "      <td>7197</td>\n",
              "      <td>কুমিল্লার বুড়িচং উপজেলার এবদারপুর গ্রামে সাবেক...</td>\n",
              "      <td>1.0</td>\n",
              "      <td>fake</td>\n",
              "      <td>real</td>\n",
              "    </tr>\n",
              "    <tr>\n",
              "      <th>7198</th>\n",
              "      <td>7198</td>\n",
              "      <td>নানা মাঙ্গলিক আয়োজনের মধ্যে দিয়ে বান্দরবানে পা...</td>\n",
              "      <td>1.0</td>\n",
              "      <td>fake</td>\n",
              "      <td>real</td>\n",
              "    </tr>\n",
              "    <tr>\n",
              "      <th>7199</th>\n",
              "      <td>7199</td>\n",
              "      <td>নারায়ণগঞ্জের সিদ্ধিরগঞ্জে শীর্ষ মাদক ব্যবসায়ী ...</td>\n",
              "      <td>1.0</td>\n",
              "      <td>fake</td>\n",
              "      <td>real</td>\n",
              "    </tr>\n",
              "    <tr>\n",
              "      <th>7200</th>\n",
              "      <td>7200</td>\n",
              "      <td>২০ বছরের পুরনো নীতিমালা দিয়েই চলছে দেশের টেলিয...</td>\n",
              "      <td>1.0</td>\n",
              "      <td>fake</td>\n",
              "      <td>real</td>\n",
              "    </tr>\n",
              "    <tr>\n",
              "      <th>7201</th>\n",
              "      <td>7201</td>\n",
              "      <td>মারুফ কামরুল মুখ ভরে বমি করছে চুটকি। আধ ভাঙা ভ...</td>\n",
              "      <td>1.0</td>\n",
              "      <td>fake</td>\n",
              "      <td>real</td>\n",
              "    </tr>\n",
              "  </tbody>\n",
              "</table>\n",
              "<p>7202 rows × 5 columns</p>\n",
              "</div>"
            ],
            "text/plain": [
              "      Unnamed: 0  ... newlabel1\n",
              "0              0  ...      real\n",
              "1              1  ...      fake\n",
              "2              2  ...      real\n",
              "3              3  ...      real\n",
              "4              4  ...      fake\n",
              "...          ...  ...       ...\n",
              "7197        7197  ...      real\n",
              "7198        7198  ...      real\n",
              "7199        7199  ...      real\n",
              "7200        7200  ...      real\n",
              "7201        7201  ...      real\n",
              "\n",
              "[7202 rows x 5 columns]"
            ]
          },
          "metadata": {
            "tags": []
          },
          "execution_count": 12
        }
      ]
    },
    {
      "cell_type": "code",
      "metadata": {
        "colab": {
          "base_uri": "https://localhost:8080/"
        },
        "id": "jd5VYQuyzwO6",
        "outputId": "bf0e039d-a921-448d-8c65-3181571a8cb5"
      },
      "source": [
        "# Read the data\n",
        "data = pd.read_csv('/content/drive/MyDrive/fakerealnews.csv',encoding='utf-8')\n",
        "data=data.dropna()\n",
        "print(f'Total number of Documents: {len(data)}')"
      ],
      "execution_count": null,
      "outputs": [
        {
          "output_type": "stream",
          "text": [
            "Total number of Documents: 7202\n"
          ],
          "name": "stdout"
        }
      ]
    },
    {
      "cell_type": "code",
      "metadata": {
        "colab": {
          "base_uri": "https://localhost:8080/",
          "height": 513
        },
        "id": "xOUxJeQ00Iwl",
        "outputId": "8fd50e74-d00e-476f-9d83-709819af1022"
      },
      "source": [
        "\n",
        "\n",
        "# Plot the Class distribution\n",
        "sns.set(font_scale=1.4)\n",
        "data['newlabel1'].value_counts().plot(kind='barh', figsize=(4, 8))\n",
        "plt.xlabel(\"Number of Articles\", labelpad=5)\n",
        "plt.ylabel(\"newlabel1\", labelpad=12)\n",
        "plt.yticks(rotation = 45)\n",
        "plt.title(\"Dataset Distribution\", y=.5);"
      ],
      "execution_count": null,
      "outputs": [
        {
          "output_type": "display_data",
          "data": {
            "image/png": "[encoded data removed]",
            "text/plain": [
              "<Figure size 288x576 with 1 Axes>"
            ]
          },
          "metadata": {
            "tags": []
          }
        }
      ]
    },
    {
      "cell_type": "code",
      "metadata": {
        "colab": {
          "base_uri": "https://localhost:8080/"
        },
        "id": "J367Zs0IYw2p",
        "outputId": "d46291a4-7b88-4d69-c16f-c002f1027e40"
      },
      "source": [
        "from google.colab import drive\n",
        "drive.mount('/content/drive')"
      ],
      "execution_count": null,
      "outputs": [
        {
          "output_type": "stream",
          "text": [
            "Mounted at /content/drive\n"
          ],
          "name": "stdout"
        }
      ]
    },
    {
      "cell_type": "code",
      "metadata": {
        "id": "unRz5hU_0MbZ"
      },
      "source": [
        "\n",
        "\n",
        "# Cleaning Data [Remove unncessary symbols]\n",
        "def cleaning_documents(articles):\n",
        "      '''\n",
        "      This function will clean the news articles by removing punctuation marks and stopwords.\n",
        "\n",
        "      Args:\n",
        "      articles: a news text(str)\n",
        "\n",
        "      returns:\n",
        "      news: clean text (str)\n",
        "      '''\n",
        "      news = articles.replace('\\n',' ')\n",
        "      news = re.sub('[^\\u0980-\\u09FF]',' ',str(news)) #removing unnecessary punctuation\n",
        "      # stopwords removal\n",
        "      stp = open('/content/drive/MyDrive/bangla_stopwords.pkl','r', encoding= 'unicode_escape').read().split()\n",
        "      result = news.split()\n",
        "      news = [word.strip() for word in result if word not in stp ]\n",
        "      news =\" \".join(news)\n",
        "      return news"
      ],
      "execution_count": null,
      "outputs": []
    },
    {
      "cell_type": "code",
      "metadata": {
        "id": "crDW3wIf0bL6"
      },
      "source": [
        "data['cleaned'] = data['content'].apply(cleaning_documents)"
      ],
      "execution_count": null,
      "outputs": []
    },
    {
      "cell_type": "code",
      "metadata": {
        "id": "t0FPmEVs1D2R",
        "colab": {
          "base_uri": "https://localhost:8080/"
        },
        "outputId": "5f80480b-09f0-4b95-b3ac-a8ccc343b117"
      },
      "source": [
        "# Calculate the Length of each Document\n",
        "data['Length'] = data.cleaned.apply(lambda x:len(x.split()))\n",
        "\n",
        "# Remove the Documents with least words\n",
        "\n",
        "dataset = data.reset_index(drop = True)\n",
        "print(\"After Cleaning:\",\"\\nRemoved {} Small Documents\".format(len(data)-len(dataset)),\n",
        "      \"\\nTotal Remaining Documents:\",len(dataset))"
      ],
      "execution_count": null,
      "outputs": [
        {
          "output_type": "stream",
          "text": [
            "After Cleaning: \n",
            "Removed 0 Small Documents \n",
            "Total Remaining Documents: 7202\n"
          ],
          "name": "stdout"
        }
      ]
    },
    {
      "cell_type": "code",
      "metadata": {
        "id": "w-GMNRVt2M5B"
      },
      "source": [
        "dataset.to_csv('cleaned_news1sentiment.csv')"
      ],
      "execution_count": null,
      "outputs": []
    },
    {
      "cell_type": "code",
      "metadata": {
        "colab": {
          "base_uri": "https://localhost:8080/",
          "height": 606
        },
        "id": "d6pjeJLlylsF",
        "outputId": "04e9ca48-fb0d-4afd-fe0c-890bea3e7411"
      },
      "source": [
        "dataset = pd.read_csv('/content/cleaned_news1sentiment.csv')\n",
        "dataset=dataset.dropna()\n",
        "dataset"
      ],
      "execution_count": null,
      "outputs": [
        {
          "output_type": "execute_result",
          "data": {
            "text/html": [
              "<div>\n",
              "<style scoped>\n",
              "    .dataframe tbody tr th:only-of-type {\n",
              "        vertical-align: middle;\n",
              "    }\n",
              "\n",
              "    .dataframe tbody tr th {\n",
              "        vertical-align: top;\n",
              "    }\n",
              "\n",
              "    .dataframe thead th {\n",
              "        text-align: right;\n",
              "    }\n",
              "</style>\n",
              "<table border=\"1\" class=\"dataframe\">\n",
              "  <thead>\n",
              "    <tr style=\"text-align: right;\">\n",
              "      <th></th>\n",
              "      <th>Unnamed: 0</th>\n",
              "      <th>Unnamed: 0.1</th>\n",
              "      <th>content</th>\n",
              "      <th>label</th>\n",
              "      <th>newlabel</th>\n",
              "      <th>newlabel1</th>\n",
              "      <th>cleaned</th>\n",
              "      <th>Length</th>\n",
              "    </tr>\n",
              "  </thead>\n",
              "  <tbody>\n",
              "    <tr>\n",
              "      <th>0</th>\n",
              "      <td>0</td>\n",
              "      <td>0</td>\n",
              "      <td>ক্রিকেট বিশ্বের নতুন চমকের নাম আফগানিস্তান। কয়...</td>\n",
              "      <td>1.0</td>\n",
              "      <td>fake</td>\n",
              "      <td>real</td>\n",
              "      <td>ক্রিকেট বিশ্বের নতুন চমকের নাম আফগানিস্তান কয়ে...</td>\n",
              "      <td>118</td>\n",
              "    </tr>\n",
              "    <tr>\n",
              "      <th>1</th>\n",
              "      <td>1</td>\n",
              "      <td>1</td>\n",
              "      <td>এশিয়া কাপের ষষ্ঠ ম্যাচে বাংলাদেশ দলের বিপক্ষে ...</td>\n",
              "      <td>0.0</td>\n",
              "      <td>fake</td>\n",
              "      <td>fake</td>\n",
              "      <td>এশিয়া কাপের ষষ্ঠ ম্যাচে বাংলাদেশ দলের বিপক্ষে ...</td>\n",
              "      <td>196</td>\n",
              "    </tr>\n",
              "    <tr>\n",
              "      <th>2</th>\n",
              "      <td>2</td>\n",
              "      <td>2</td>\n",
              "      <td>রাজধানীতে মাদক বিরোধী বিশেষ অভিযান পরিচালনা কর...</td>\n",
              "      <td>1.0</td>\n",
              "      <td>fake</td>\n",
              "      <td>real</td>\n",
              "      <td>রাজধানীতে মাদক বিরোধী বিশেষ অভিযান পরিচালনা কর...</td>\n",
              "      <td>105</td>\n",
              "    </tr>\n",
              "    <tr>\n",
              "      <th>3</th>\n",
              "      <td>3</td>\n",
              "      <td>3</td>\n",
              "      <td>সনাতন ধর্মাবলম্বীদের সবচেয়ে বড় ধর্মীয় উৎসব দুর...</td>\n",
              "      <td>1.0</td>\n",
              "      <td>fake</td>\n",
              "      <td>real</td>\n",
              "      <td>সনাতন ধর্মাবলম্বীদের সবচেয়ে বড় ধর্মীয় উৎসব দুর...</td>\n",
              "      <td>107</td>\n",
              "    </tr>\n",
              "    <tr>\n",
              "      <th>4</th>\n",
              "      <td>4</td>\n",
              "      <td>4</td>\n",
              "      <td>ভারত থেকে পাইপ লাইনের মাধ্যমে সরাসরি দেশে জ্বা...</td>\n",
              "      <td>0.0</td>\n",
              "      <td>fake</td>\n",
              "      <td>fake</td>\n",
              "      <td>ভারত থেকে পাইপ লাইনের মাধ্যমে সরাসরি দেশে জ্বা...</td>\n",
              "      <td>243</td>\n",
              "    </tr>\n",
              "    <tr>\n",
              "      <th>...</th>\n",
              "      <td>...</td>\n",
              "      <td>...</td>\n",
              "      <td>...</td>\n",
              "      <td>...</td>\n",
              "      <td>...</td>\n",
              "      <td>...</td>\n",
              "      <td>...</td>\n",
              "      <td>...</td>\n",
              "    </tr>\n",
              "    <tr>\n",
              "      <th>7197</th>\n",
              "      <td>7197</td>\n",
              "      <td>7197</td>\n",
              "      <td>কুমিল্লার বুড়িচং উপজেলার এবদারপুর গ্রামে সাবেক...</td>\n",
              "      <td>1.0</td>\n",
              "      <td>fake</td>\n",
              "      <td>real</td>\n",
              "      <td>কুমিল্লার বুড়িচং উপজেলার এবদারপুর গ্রামে সাবেক...</td>\n",
              "      <td>181</td>\n",
              "    </tr>\n",
              "    <tr>\n",
              "      <th>7198</th>\n",
              "      <td>7198</td>\n",
              "      <td>7198</td>\n",
              "      <td>নানা মাঙ্গলিক আয়োজনের মধ্যে দিয়ে বান্দরবানে পা...</td>\n",
              "      <td>1.0</td>\n",
              "      <td>fake</td>\n",
              "      <td>real</td>\n",
              "      <td>নানা মাঙ্গলিক আয়োজনের মধ্যে দিয়ে বান্দরবানে পা...</td>\n",
              "      <td>89</td>\n",
              "    </tr>\n",
              "    <tr>\n",
              "      <th>7199</th>\n",
              "      <td>7199</td>\n",
              "      <td>7199</td>\n",
              "      <td>নারায়ণগঞ্জের সিদ্ধিরগঞ্জে শীর্ষ মাদক ব্যবসায়ী ...</td>\n",
              "      <td>1.0</td>\n",
              "      <td>fake</td>\n",
              "      <td>real</td>\n",
              "      <td>নারায়ণগঞ্জের সিদ্ধিরগঞ্জে শীর্ষ মাদক ব্যবসায়ী ...</td>\n",
              "      <td>259</td>\n",
              "    </tr>\n",
              "    <tr>\n",
              "      <th>7200</th>\n",
              "      <td>7200</td>\n",
              "      <td>7200</td>\n",
              "      <td>২০ বছরের পুরনো নীতিমালা দিয়েই চলছে দেশের টেলিয...</td>\n",
              "      <td>1.0</td>\n",
              "      <td>fake</td>\n",
              "      <td>real</td>\n",
              "      <td>২০ বছরের পুরনো নীতিমালা দিয়েই চলছে দেশের টেলিয...</td>\n",
              "      <td>156</td>\n",
              "    </tr>\n",
              "    <tr>\n",
              "      <th>7201</th>\n",
              "      <td>7201</td>\n",
              "      <td>7201</td>\n",
              "      <td>মারুফ কামরুল মুখ ভরে বমি করছে চুটকি। আধ ভাঙা ভ...</td>\n",
              "      <td>1.0</td>\n",
              "      <td>fake</td>\n",
              "      <td>real</td>\n",
              "      <td>মারুফ কামরুল মুখ ভরে বমি করছে চুটকি আধ ভাঙা ভা...</td>\n",
              "      <td>2136</td>\n",
              "    </tr>\n",
              "  </tbody>\n",
              "</table>\n",
              "<p>7200 rows × 8 columns</p>\n",
              "</div>"
            ],
            "text/plain": [
              "      Unnamed: 0  ...  Length\n",
              "0              0  ...     118\n",
              "1              1  ...     196\n",
              "2              2  ...     105\n",
              "3              3  ...     107\n",
              "4              4  ...     243\n",
              "...          ...  ...     ...\n",
              "7197        7197  ...     181\n",
              "7198        7198  ...      89\n",
              "7199        7199  ...     259\n",
              "7200        7200  ...     156\n",
              "7201        7201  ...    2136\n",
              "\n",
              "[7200 rows x 8 columns]"
            ]
          },
          "metadata": {
            "tags": []
          },
          "execution_count": 30
        }
      ]
    },
    {
      "cell_type": "code",
      "metadata": {
        "colab": {
          "base_uri": "https://localhost:8080/",
          "height": 461
        },
        "id": "BwhqB8PtypTN",
        "outputId": "2caa4cc2-9310-4d99-8745-4d983ca0b48c"
      },
      "source": [
        "import matplotlib\n",
        "matplotlib.rc_file_defaults()\n",
        "frequency = dict()\n",
        "for i in dataset.Length:\n",
        "    frequency[i] = frequency.get(i, 0)+1\n",
        "\n",
        "plt.figure(figsize = (6,4))\n",
        "plt.bar(frequency.keys(), frequency.values(), color=(0.2, 0.4, 0.6, 0.6))\n",
        "plt.xlim(21, 700)\n",
        "# in this notbook color is not working but it should work.\n",
        "plt.xlabel('Length of the Documents')\n",
        "plt.ylabel('Frequency')\n",
        "plt.title('Length-Frequency Distribution')\n",
        "#plt.savefig(path+'len_dist.png',dpi = 1000,bbox_inches ='tight')\n",
        "plt.show()\n",
        "print(f\"Maximum Length of a Document: {max(dataset.Length)}\")\n",
        "print(f\"Minimum Length of a Document: {min(dataset.Length)}\")\n",
        "print(f\"Average Length of a Document: {round(np.mean(dataset.Length),0)}\")\n"
      ],
      "execution_count": null,
      "outputs": [
        {
          "output_type": "display_data",
          "data": {
            "image/png": "[encoded data removed]",
            "text/plain": [
              "<Figure size 600x400 with 1 Axes>"
            ]
          },
          "metadata": {
            "tags": []
          }
        },
        {
          "output_type": "stream",
          "text": [
            "Maximum Length of a Document: 3788\n",
            "Minimum Length of a Document: 0\n",
            "Average Length of a Document: 261.0\n"
          ],
          "name": "stdout"
        }
      ]
    },
    {
      "cell_type": "code",
      "metadata": {
        "colab": {
          "base_uri": "https://localhost:8080/"
        },
        "id": "E4_uRAA1yvGd",
        "outputId": "7c88de46-032b-40b6-f3d0-ea88b5b0367c"
      },
      "source": [
        "def data_summary(dataset):\n",
        "  '''\n",
        "  This function will print the summary of the dataset\n",
        "\n",
        "  Args:\n",
        "  dataset: cleaned texts\n",
        "\n",
        "  returns:\n",
        "  documents: Number of document per class\n",
        "  words: Number of words per class\n",
        "  u_words: Number of unique words per class\n",
        "  class_label: name of the categories\n",
        "  '''\n",
        "  documents = []\n",
        "  words = []\n",
        "  u_words = []\n",
        "  #total_u_word = [word.strip().lower() for t in list(dataset.cleaned) for word in t.strip().split()]\n",
        "  # find class names\n",
        "  class_label = [k for k,v in dataset.newlabel1.value_counts().to_dict().items()]\n",
        "  for label in class_label:\n",
        "    word_list = [word.strip().lower() for t in list(dataset[dataset.newlabel1==label].cleaned) for word in t.strip().split()]\n",
        "    counts = dict()\n",
        "    for word in word_list:\n",
        "      counts[word] = counts.get(word, 0)+1\n",
        "    # sort the dictionary of word list\n",
        "    ordered = sorted(counts.items(), key= lambda item: item[1],reverse = True)\n",
        "    # Documents per class\n",
        "    documents.append(len(list(dataset[dataset.newlabel1==label].cleaned)))\n",
        "    # Total Word per class\n",
        "    words.append(len(word_list))\n",
        "    # Unique words per class\n",
        "    u_words.append(len(np.unique(word_list)))\n",
        "\n",
        "    print(\"\\nClass Name : \",label)\n",
        "    print(\"Number of Documents:{}\".format(len(list(dataset[dataset.newlabel1==label].cleaned))))\n",
        "    print(\"Number of Words:{}\".format(len(word_list)))\n",
        "    print(\"Number of Unique Words:{}\".format(len(np.unique(word_list))))\n",
        "    print(\"Most Frequent Words:\\n\")\n",
        "    for k,v in ordered[:10]:\n",
        "      print(\"{}\\t{}\".format(k,v))\n",
        "  return documents,words,u_words,class_label\n",
        "\n",
        "# pass the whole dataset into the function\n",
        "\n",
        "documents,words,u_words,class_names = data_summary(dataset)"
      ],
      "execution_count": null,
      "outputs": [
        {
          "output_type": "stream",
          "text": [
            "\n",
            "Class Name :  real\n",
            "Number of Documents:3964\n",
            "Number of Words:1011281\n",
            "Number of Unique Words:57274\n",
            "Most Frequent Words:\n",
            "\n",
            "ও\t12140\n",
            "করে\t8768\n",
            "এ\t7085\n",
            "থেকে\t6587\n",
            "না\t5957\n",
            "করা\t5951\n",
            "বলেন\t5544\n",
            "হয়েছে\t5256\n",
            "হয়\t5246\n",
            "তিনি\t5003\n",
            "\n",
            "Class Name :  fake\n",
            "Number of Documents:3236\n",
            "Number of Words:868491\n",
            "Number of Unique Words:56168\n",
            "Most Frequent Words:\n",
            "\n",
            "ও\t9736\n",
            "করে\t7171\n",
            "এ\t5581\n",
            "থেকে\t5526\n",
            "না\t5203\n",
            "করা\t4634\n",
            "এই\t4548\n",
            "তিনি\t4506\n",
            "বলেন\t4314\n",
            "হয়\t4171\n"
          ],
          "name": "stdout"
        }
      ]
    },
    {
      "cell_type": "code",
      "metadata": {
        "colab": {
          "base_uri": "https://localhost:8080/",
          "height": 111
        },
        "id": "YQKJzw-Yy1V8",
        "outputId": "a9928edf-32e4-476d-c292-9f94f1eb7dbc"
      },
      "source": [
        "data_matrix = pd.DataFrame({'Total Documents':documents,\n",
        "                            'Total Words':words,\n",
        "                            'Unique Words':u_words,\n",
        "                            'Class Names':class_names})\n",
        "data_matrix"
      ],
      "execution_count": null,
      "outputs": [
        {
          "output_type": "execute_result",
          "data": {
            "text/html": [
              "<div>\n",
              "<style scoped>\n",
              "    .dataframe tbody tr th:only-of-type {\n",
              "        vertical-align: middle;\n",
              "    }\n",
              "\n",
              "    .dataframe tbody tr th {\n",
              "        vertical-align: top;\n",
              "    }\n",
              "\n",
              "    .dataframe thead th {\n",
              "        text-align: right;\n",
              "    }\n",
              "</style>\n",
              "<table border=\"1\" class=\"dataframe\">\n",
              "  <thead>\n",
              "    <tr style=\"text-align: right;\">\n",
              "      <th></th>\n",
              "      <th>Total Documents</th>\n",
              "      <th>Total Words</th>\n",
              "      <th>Unique Words</th>\n",
              "      <th>Class Names</th>\n",
              "    </tr>\n",
              "  </thead>\n",
              "  <tbody>\n",
              "    <tr>\n",
              "      <th>0</th>\n",
              "      <td>3964</td>\n",
              "      <td>1011281</td>\n",
              "      <td>57274</td>\n",
              "      <td>real</td>\n",
              "    </tr>\n",
              "    <tr>\n",
              "      <th>1</th>\n",
              "      <td>3236</td>\n",
              "      <td>868491</td>\n",
              "      <td>56168</td>\n",
              "      <td>fake</td>\n",
              "    </tr>\n",
              "  </tbody>\n",
              "</table>\n",
              "</div>"
            ],
            "text/plain": [
              "   Total Documents  Total Words  Unique Words Class Names\n",
              "0             3964      1011281         57274        real\n",
              "1             3236       868491         56168        fake"
            ]
          },
          "metadata": {
            "tags": []
          },
          "execution_count": 32
        }
      ]
    },
    {
      "cell_type": "code",
      "metadata": {
        "colab": {
          "base_uri": "https://localhost:8080/",
          "height": 703
        },
        "id": "zSCQ7DiFzMkl",
        "outputId": "f2e2fe1f-f3c7-4448-bb91-2f5f6883097f"
      },
      "source": [
        "sns.set()\n",
        "plt.figure(figsize =(10, 8))\n",
        "ax = plt.subplot()\n",
        "sns.heatmap(data_matrix.iloc[:,0:3], annot=True,fmt=\"d\", linewidths=0.5,linecolor = 'Black',cmap = \"YlGnBu\",ax = ax)\n",
        "# labels, title and ticks\n",
        "ax.set_ylabel('Class Names')\n",
        "ax.set_title('Data Statistics')\n",
        "y_label = [\"Total Documents\", \"Total Words\", \"Unique Words\"]\n",
        "ax.xaxis.set_ticklabels(y_label); ax.yaxis.set_ticklabels(class_names, rotation=360);\n",
        "ax.xaxis.tick_top()"
      ],
      "execution_count": null,
      "outputs": [
        {
          "output_type": "display_data",
          "data": {
            "image/png": "[encoded data removed]",
            "text/plain": [
              "<Figure size 1000x800 with 2 Axes>"
            ]
          },
          "metadata": {
            "tags": []
          }
        }
      ]
    },
    {
      "cell_type": "code",
      "metadata": {
        "id": "y1P-aH0HzQXN"
      },
      "source": [
        "                   #===========================================================\n",
        "                   ################# Label Encoding Function ##################\n",
        "                   #===========================================================\n",
        "def label_encoding(dataset,bool):\n",
        "  '''\n",
        "  This function will convert categorical class names into a numeric label\n",
        "\n",
        "  Args:\n",
        "  dataset: A dataset\n",
        "  bool : a boolean (True or False)\n",
        "\n",
        "  returns:\n",
        "  labels: encoded labels\n",
        "  '''\n",
        "  le = LabelEncoder()\n",
        "  le.fit(dataset.newlabel1)\n",
        "  encoded_labels = le.transform(dataset.newlabel1)\n",
        "  labels = np.array(encoded_labels) # Converting into numpy array\n",
        "  class_names =le.classes_ ## Define the class names again\n",
        "  if bool == True:\n",
        "    print(color.BOLD+\"\\n\\t\\t\\t===== Label Encoding =====\"+color.END,\"\\nClass Names:-->\",le.classes_)\n",
        "  return labels\n",
        "\n",
        "                   #===========================================================\n",
        "                   ################# Dataset Splitting Function ###############\n",
        "                   #===========================================================\n",
        "\n",
        "def dataset_split(news,category):\n",
        "  '''\n",
        "  This function will split the dataset into Train-Test-Validation set\n",
        "\n",
        "  Args:\n",
        "  news: encoded texts\n",
        "  category: class names\n",
        "\n",
        "  returns:\n",
        "  X_train: Encoded Training News\n",
        "  X_valid: Encoded Validation News\n",
        "  X_test:  Encoded Test news\n",
        "  y_train: Encoded Training labels\n",
        "  y_valid: Encoded Validation labels\n",
        "  y_test:  Encoded Test labels\n",
        "  '''\n",
        "\n",
        "  X,X_test,y,y_test = train_test_split(news,category,train_size = 0.9,\n",
        "                                                  test_size = 0.1,random_state =0)\n",
        "  X_train,X_valid,y_train,y_valid = train_test_split(X,y,train_size = 0.8,\n",
        "                                                  test_size = 0.2,random_state =0)\n",
        "  print(color.BOLD+\"Feature Size :======>\"+color.END,X_train.shape[1])\n",
        "  print(color.BOLD+\"\\nDataset Distribution:\\n\"+color.END)\n",
        "  print(\"\\tSet Name\",\"\\t\\tSize\")\n",
        "  print(\"\\t========\\t\\t======\")\n",
        "\n",
        "  print(\"\\tFull\\t\\t\\t\",news.shape[0],\n",
        "        \"\\n\\tTraining\\t\\t\",X_train.shape[0],\n",
        "        \"\\n\\tTest\\t\\t\\t\",X_test.shape[0],\n",
        "        \"\\n\\tValidation\\t\\t\",X_valid.shape[0])\n",
        "\n",
        "  return X_train,X_valid,X_test,y_train,y_valid,y_test\n"
      ],
      "execution_count": null,
      "outputs": []
    },
    {
      "cell_type": "code",
      "metadata": {
        "colab": {
          "base_uri": "https://localhost:8080/"
        },
        "id": "JY7X7zWjzrfc",
        "outputId": "f165565e-6494-4135-e824-3abe60ffd56b"
      },
      "source": [
        "def encoded_texts(dataset,padding_length,max_words):\n",
        "\n",
        "  '''\n",
        "  This function will encoded the text into a sequence of numbers\n",
        "\n",
        "  Args:\n",
        "  dataset: a dataset\n",
        "  padding_length: maximum length of a encoded texte\n",
        "  max_words : Number of words\n",
        "\n",
        "  returns:\n",
        "  corpus: Number of encoded texts\n",
        "  labels: encoded labels\n",
        "  '''\n",
        "\n",
        "  tokenizer = Tokenizer(num_words = max_words, filters='!\"#$%&()*+,-./:;<=>?@[\\\\]^_`{|}~\\t\\n-',\n",
        "                      split=' ', char_level=False, oov_token='<oov>', document_count=0)\n",
        "\n",
        "\n",
        "\n",
        " # Fit the tokenizer\n",
        "  tokenizer.fit_on_texts(dataset.cleaned)\n",
        "  #============================== Tokenizer Info =================================\n",
        "  (word_counts,word_docs,word_index,document_count) = (tokenizer.word_counts,\n",
        "                                                       tokenizer.word_docs,\n",
        "                                                       tokenizer.word_index,\n",
        "                                                       tokenizer.document_count)\n",
        "  def tokenizer_info(mylist,bool):\n",
        "    ordered = sorted(mylist.items(), key= lambda item: item[1],reverse = bool)\n",
        "    for w,c in ordered[:10]:\n",
        "      print(w,\"\\t\",c)\n",
        "  #=============================== Print all the information =========================\n",
        "  print(color.BOLD+\"\\t\\t\\t====== Tokenizer Info ======\"+color.END)\n",
        "  print(\"Words --> Counts:\")\n",
        "  tokenizer_info(word_counts,bool =True )\n",
        "  print(\"\\nWords --> Documents:\")\n",
        "  tokenizer_info(word_docs,bool =True )\n",
        "  print(\"\\nWords --> Index:\")\n",
        "  tokenizer_info(word_index,bool =True )\n",
        "  print(\"\\nTotal Documents -->\",document_count)\n",
        "\n",
        "  #=========================== Convert string into list of integer indices =================\n",
        "  sequences = tokenizer.texts_to_sequences(dataset.cleaned)\n",
        "  word_index = tokenizer.word_index\n",
        "  print(color.BOLD+\"\\n\\t\\t\\t====== Encoded Sequences ======\"+color.END,\"\\nFound {} unique tokens\".format(len(word_index)))\n",
        "  print(dataset.cleaned[10],\"\\n\",sequences[10])\n",
        "\n",
        "  #==================================== Pad Sequences ==============================\n",
        "  corpus = keras.preprocessing.sequence.pad_sequences(sequences, value=0.0,\n",
        "                                                      padding='post', maxlen= padding_length)\n",
        "  print(\"\\n\\t\\t\\t====== Paded Sequences ======\\n\",dataset.cleaned[10],\"\\n\",corpus[10])\n",
        "\n",
        "  #=================================     Label Encoding ================================\n",
        "  labels = label_encoding(dataset,True)\n",
        "\n",
        "   # save the tokenizer into a pickle file\n",
        "  with open('tokenizer.pickle', 'wb') as handle:\n",
        "    pickle.dump(tokenizer, handle, protocol=pickle.HIGHEST_PROTOCOL)\n",
        "\n",
        "  return corpus,labels\n",
        "\n",
        "#call the function\n",
        "num_words = 5000\n",
        "corpus,labels = encoded_texts(dataset,\n",
        "                                300,num_words)\n",
        "print(\"\\nShape of Encoded Corpus =====>\",corpus.shape)"
      ],
      "execution_count": null,
      "outputs": [
        {
          "output_type": "stream",
          "text": [
            "\u001b[1m\t\t\t====== Tokenizer Info ======\u001b[0m\n",
            "Words --> Counts:\n",
            "ও \t 21876\n",
            "করে \t 15939\n",
            "এ \t 12666\n",
            "থেকে \t 12113\n",
            "না \t 11160\n",
            "করা \t 10585\n",
            "বলেন \t 9858\n",
            "তিনি \t 9509\n",
            "এই \t 9506\n",
            "হয় \t 9417\n",
            "\n",
            "Words --> Documents:\n",
            "ও \t 5711\n",
            "করে \t 5129\n",
            "এ \t 5041\n",
            "থেকে \t 4778\n",
            "করা \t 4348\n",
            "হয়েছে \t 4155\n",
            "হয় \t 4141\n",
            "তিনি \t 3656\n",
            "এই \t 3521\n",
            "না \t 3521\n",
            "\n",
            "Words --> Index:\n",
            "কাদায় \t 79851\n",
            "উড়না \t 79850\n",
            "কান্দিস \t 79849\n",
            "নিমু \t 79848\n",
            "একলগে \t 79847\n",
            "বোলায় \t 79846\n",
            "তৃষ্ণায় \t 79845\n",
            "ফুলগুলোতে \t 79844\n",
            "বোলালো \t 79843\n",
            "গাছটা \t 79842\n",
            "\n",
            "Total Documents --> 7200\n",
            "\u001b[1m\n",
            "\t\t\t====== Encoded Sequences ======\u001b[0m \n",
            "Found 79851 unique tokens\n",
            "মালয়েশিয়ায় রাজধানী কুয়ালালামপুরের আশপাশের এলাকায় এলকোহল মিশ্রিত পানীয় পান করে বাংলাদেশী সহ ২১ জন প্রাণ হারিয়েছেন এ ঘটনায় গুরুতর অসুস্থ হয়েছেন আরো ৩৬ জন নিহতদের মধ্যে রয়েছেন বাংলাদেশী নেপালি ভারতীয় মালয়েশিয়ান মিয়ানমারের নাগরিক তবে এর মধ্যে কতজন বাংলাদেশী রয়েছেন তা সুস্পষ্টভাবে জানা যায় নি সেখানকার কর্তৃপক্ষ বলেছে বুধবার ১৯ সেপ্টেম্বর রাজধানীর আশপাশে হুইস্কি ও বিয়ার পান করার পর এসব মৃত্যুর ঘটনা ঘটে এ ঘটনায় পুলিশ গ্রেপ্তার অভিযান চালিয়েছে বলা হয়েছে প্রথম মৃত্যু হয় সোমবার রাতে তারপর থেকে মৃত্যুর সংখ্যা বাড়তে থাকে স্বাস্থ্যমন্ত্রী জুলকেফ্লাই আহমাদ বলেছেন এ ঘটনায় তারা গভীরভাবে উদ্বিগ্ন যে পানীয় পান করেছেন ওইসব বিদেশী তা গোপনে তেরি করা হয়েছে এই পানীয় তৈরি করে একটি চক্র সহজে অর্থ বানানোর চেষ্টায় লিপ্ত এরপর রাজধানী কুয়ালালামপুরের বিভিন্ন দোকান তল্লাশি করেছে পুলিশ সেখান থেকে উদ্ধার করা হয়েছে বিপুল পরিমাণের হুইস্কি ও বিয়ার এমন দোকান টালানোর জন্য ৫ জন পুরুষ ও ২ জন নারীকে গ্রেপ্তার করা হয়েছে এরা মালয়েশিয়া মিয়ানমার ও ভারতের নাগরিক উল্লেখ্য এশিয়ার গরিব দেশগুলোর শ্রমিকদের কাছে মালয়েশিয়া হলো বড় একটি আকর্ষণ সেখানে বৃক্ষায়ন ও নির্মাণ প্রতিষ্ঠানে কাজ করেন এমন বহু শ্রমিক বিডি২৪লাইভ এসএস \n",
            " [4252, 1652, 1, 2959, 136, 1, 1, 1, 608, 3, 1, 511, 239, 113, 1873, 1, 4, 249, 1056, 597, 261, 227, 1733, 113, 2544, 30, 486, 1, 1, 507, 1, 1210, 771, 41, 26, 30, 1, 1, 486, 66, 1, 155, 38, 1927, 3651, 666, 1658, 98, 259, 34, 406, 1, 1, 2, 1, 608, 49, 28, 131, 1049, 190, 298, 4, 249, 40, 644, 395, 3493, 142, 12, 77, 521, 11, 669, 263, 1273, 5, 1049, 538, 2935, 262, 4661, 1, 1, 198, 4, 249, 36, 1, 3691, 39, 1, 608, 50, 1, 1, 66, 4371, 1, 7, 12, 10, 1, 243, 3, 19, 3891, 3781, 517, 1, 4049, 1, 201, 1652, 1, 61, 2298, 1885, 43, 40, 1232, 5, 103, 7, 12, 1360, 1, 1, 2, 1, 139, 2298, 1, 17, 163, 113, 1874, 2, 146, 113, 2998, 644, 7, 12, 2163, 3348, 1469, 2, 143, 771, 1223, 2960, 1, 4203, 1352, 84, 3348, 217, 148, 19, 2445, 179, 1, 2, 630, 2446, 67, 18, 139, 1793, 654, 1905, 1]\n",
            "\n",
            "\t\t\t====== Paded Sequences ======\n",
            " মালয়েশিয়ায় রাজধানী কুয়ালালামপুরের আশপাশের এলাকায় এলকোহল মিশ্রিত পানীয় পান করে বাংলাদেশী সহ ২১ জন প্রাণ হারিয়েছেন এ ঘটনায় গুরুতর অসুস্থ হয়েছেন আরো ৩৬ জন নিহতদের মধ্যে রয়েছেন বাংলাদেশী নেপালি ভারতীয় মালয়েশিয়ান মিয়ানমারের নাগরিক তবে এর মধ্যে কতজন বাংলাদেশী রয়েছেন তা সুস্পষ্টভাবে জানা যায় নি সেখানকার কর্তৃপক্ষ বলেছে বুধবার ১৯ সেপ্টেম্বর রাজধানীর আশপাশে হুইস্কি ও বিয়ার পান করার পর এসব মৃত্যুর ঘটনা ঘটে এ ঘটনায় পুলিশ গ্রেপ্তার অভিযান চালিয়েছে বলা হয়েছে প্রথম মৃত্যু হয় সোমবার রাতে তারপর থেকে মৃত্যুর সংখ্যা বাড়তে থাকে স্বাস্থ্যমন্ত্রী জুলকেফ্লাই আহমাদ বলেছেন এ ঘটনায় তারা গভীরভাবে উদ্বিগ্ন যে পানীয় পান করেছেন ওইসব বিদেশী তা গোপনে তেরি করা হয়েছে এই পানীয় তৈরি করে একটি চক্র সহজে অর্থ বানানোর চেষ্টায় লিপ্ত এরপর রাজধানী কুয়ালালামপুরের বিভিন্ন দোকান তল্লাশি করেছে পুলিশ সেখান থেকে উদ্ধার করা হয়েছে বিপুল পরিমাণের হুইস্কি ও বিয়ার এমন দোকান টালানোর জন্য ৫ জন পুরুষ ও ২ জন নারীকে গ্রেপ্তার করা হয়েছে এরা মালয়েশিয়া মিয়ানমার ও ভারতের নাগরিক উল্লেখ্য এশিয়ার গরিব দেশগুলোর শ্রমিকদের কাছে মালয়েশিয়া হলো বড় একটি আকর্ষণ সেখানে বৃক্ষায়ন ও নির্মাণ প্রতিষ্ঠানে কাজ করেন এমন বহু শ্রমিক বিডি২৪লাইভ এসএস \n",
            " [4252 1652    1 2959  136    1    1    1  608    3    1  511  239  113\n",
            " 1873    1    4  249 1056  597  261  227 1733  113 2544   30  486    1\n",
            "    1  507    1 1210  771   41   26   30    1    1  486   66    1  155\n",
            "   38 1927 3651  666 1658   98  259   34  406    1    1    2    1  608\n",
            "   49   28  131 1049  190  298    4  249   40  644  395 3493  142   12\n",
            "   77  521   11  669  263 1273    5 1049  538 2935  262 4661    1    1\n",
            "  198    4  249   36    1 3691   39    1  608   50    1    1   66 4371\n",
            "    1    7   12   10    1  243    3   19 3891 3781  517    1 4049    1\n",
            "  201 1652    1   61 2298 1885   43   40 1232    5  103    7   12 1360\n",
            "    1    1    2    1  139 2298    1   17  163  113 1874    2  146  113\n",
            " 2998  644    7   12 2163 3348 1469    2  143  771 1223 2960    1 4203\n",
            " 1352   84 3348  217  148   19 2445  179    1    2  630 2446   67   18\n",
            "  139 1793  654 1905    1    0    0    0    0    0    0    0    0    0\n",
            "    0    0    0    0    0    0    0    0    0    0    0    0    0    0\n",
            "    0    0    0    0    0    0    0    0    0    0    0    0    0    0\n",
            "    0    0    0    0    0    0    0    0    0    0    0    0    0    0\n",
            "    0    0    0    0    0    0    0    0    0    0    0    0    0    0\n",
            "    0    0    0    0    0    0    0    0    0    0    0    0    0    0\n",
            "    0    0    0    0    0    0    0    0    0    0    0    0    0    0\n",
            "    0    0    0    0    0    0    0    0    0    0    0    0    0    0\n",
            "    0    0    0    0    0    0    0    0    0    0    0    0    0    0\n",
            "    0    0    0    0    0    0]\n",
            "\u001b[1m\n",
            "\t\t\t===== Label Encoding =====\u001b[0m \n",
            "Class Names:--> ['fake' 'real']\n",
            "\n",
            "Shape of Encoded Corpus =====> (7200, 300)\n"
          ],
          "name": "stdout"
        }
      ]
    },
    {
      "cell_type": "code",
      "metadata": {
        "colab": {
          "base_uri": "https://localhost:8080/"
        },
        "id": "qCSON1aEzujd",
        "outputId": "f4582bf5-f00f-4a37-cece-94ca285b5303"
      },
      "source": [
        "X_train,X_valid,X_test,y_train,y_valid,y_test = dataset_split(corpus,labels)"
      ],
      "execution_count": null,
      "outputs": [
        {
          "output_type": "stream",
          "text": [
            "\u001b[1mFeature Size :======>\u001b[0m 300\n",
            "\u001b[1m\n",
            "Dataset Distribution:\n",
            "\u001b[0m\n",
            "\tSet Name \t\tSize\n",
            "\t========\t\t======\n",
            "\tFull\t\t\t 7200 \n",
            "\tTraining\t\t 5184 \n",
            "\tTest\t\t\t 720 \n",
            "\tValidation\t\t 1296\n"
          ],
          "name": "stdout"
        }
      ]
    },
    {
      "cell_type": "code",
      "metadata": {
        "colab": {
          "base_uri": "https://localhost:8080/"
        },
        "id": "dS-668SAz0vE",
        "outputId": "17cc582e-a8ea-4363-e38a-3f153a1a003f"
      },
      "source": [
        "\n",
        "embedding_dimension = 128\n",
        "input_length = 300\n",
        "vocab_size = 5000\n",
        "num_classes = 14\n",
        "batch_size = 64\n",
        "num_epochs = 10\n",
        "\n",
        "accuracy_threshold = 0.97\n",
        "\n",
        "\n",
        "class myCallback(keras.callbacks.Callback):\n",
        "  def on_epoch_end(self, epoch, logs={}):\n",
        "      if(logs.get('accuracy')>accuracy_threshold):\n",
        "        print(\"\\nReached %2.2f%% accuracy so we will stop trianing\" % (accuracy_threshold*100))\n",
        "        self.model.stop_training = True\n",
        "\n",
        "acc_callback = myCallback()\n",
        "# Saved the Best Model\n",
        "filepath = \"Model1.h5\"\n",
        "checkpoint = keras.callbacks.ModelCheckpoint(filepath, monitor='val_accuracy', verbose=2, save_best_only=True,\n",
        "                                             save_weights_only=False, mode='max')\n",
        "# callback list\n",
        "callback_list = [acc_callback, checkpoint]\n",
        "\n",
        "                            ###############################     CNN network architecture ################\n",
        "model = tf.keras.models.Sequential([\n",
        "tf.keras.layers.Embedding(vocab_size, embedding_dimension, input_length = input_length),\n",
        "tf.keras.layers.Conv1D(128, 5, activation= 'relu'),\n",
        "tf.keras.layers.MaxPooling1D(5),\n",
        "tf.keras.layers.Bidirectional(LSTM(64, return_sequences=True,dropout = 0.2)),\n",
        "tf.keras.layers.Bidirectional(LSTM(64, return_sequences=True,dropout = 0.2)),\n",
        "tf.keras.layers.Dense(28, activation='relu'),\n",
        "tf.keras.layers.Dense(14, activation='relu'),\n",
        "keras.layers.Flatten(),\n",
        "tf.keras.layers.Dense(num_classes , activation='softmax')])\n",
        "\n",
        "model.summary()\n",
        "\n",
        "model.compile(optimizer=keras.optimizers.Adam(),\n",
        "    loss='sparse_categorical_crossentropy',\n",
        "    metrics=['accuracy'])\n",
        "\n",
        "history = model.fit(X_train,\n",
        "    y_train,\n",
        "    epochs=num_epochs,\n",
        "    batch_size = batch_size,\n",
        "    validation_data=(X_valid, y_valid),\n",
        "    verbose =1)\n",
        "    #callbacks = callback_list)\n"
      ],
      "execution_count": null,
      "outputs": [
        {
          "output_type": "stream",
          "text": [
            "Model: \"sequential\"\n",
            "_________________________________________________________________\n",
            "Layer (type)                 Output Shape              Param #   \n",
            "=================================================================\n",
            "embedding (Embedding)        (None, 300, 128)          640000    \n",
            "_________________________________________________________________\n",
            "conv1d (Conv1D)              (None, 296, 128)          82048     \n",
            "_________________________________________________________________\n",
            "max_pooling1d (MaxPooling1D) (None, 59, 128)           0         \n",
            "_________________________________________________________________\n",
            "bidirectional (Bidirectional (None, 59, 128)           98816     \n",
            "_________________________________________________________________\n",
            "bidirectional_1 (Bidirection (None, 59, 128)           98816     \n",
            "_________________________________________________________________\n",
            "dense (Dense)                (None, 59, 28)            3612      \n",
            "_________________________________________________________________\n",
            "dense_1 (Dense)              (None, 59, 14)            406       \n",
            "_________________________________________________________________\n",
            "flatten (Flatten)            (None, 826)               0         \n",
            "_________________________________________________________________\n",
            "dense_2 (Dense)              (None, 14)                11578     \n",
            "=================================================================\n",
            "Total params: 935,276\n",
            "Trainable params: 935,276\n",
            "Non-trainable params: 0\n",
            "_________________________________________________________________\n",
            "Epoch 1/10\n",
            "81/81 [==============================] - 34s 423ms/step - loss: 0.8118 - accuracy: 0.5212 - val_loss: 0.7093 - val_accuracy: 0.4267\n",
            "Epoch 2/10\n",
            "81/81 [==============================] - 33s 403ms/step - loss: 0.6894 - accuracy: 0.5453 - val_loss: 0.6647 - val_accuracy: 0.5787\n",
            "Epoch 3/10\n",
            "81/81 [==============================] - 33s 403ms/step - loss: 0.5956 - accuracy: 0.6813 - val_loss: 0.7077 - val_accuracy: 0.5756\n",
            "Epoch 4/10\n",
            "81/81 [==============================] - 33s 406ms/step - loss: 0.4026 - accuracy: 0.8299 - val_loss: 0.8584 - val_accuracy: 0.5903\n",
            "Epoch 5/10\n",
            "81/81 [==============================] - 33s 404ms/step - loss: 0.2404 - accuracy: 0.9118 - val_loss: 0.9499 - val_accuracy: 0.5826\n",
            "Epoch 6/10\n",
            "81/81 [==============================] - 33s 404ms/step - loss: 0.1428 - accuracy: 0.9547 - val_loss: 1.1498 - val_accuracy: 0.5887\n",
            "Epoch 7/10\n",
            "81/81 [==============================] - 33s 407ms/step - loss: 0.1081 - accuracy: 0.9647 - val_loss: 1.2858 - val_accuracy: 0.5733\n",
            "Epoch 8/10\n",
            "81/81 [==============================] - 33s 405ms/step - loss: 0.0791 - accuracy: 0.9749 - val_loss: 1.2458 - val_accuracy: 0.5702\n",
            "Epoch 9/10\n",
            "81/81 [==============================] - 33s 405ms/step - loss: 0.0661 - accuracy: 0.9778 - val_loss: 1.6813 - val_accuracy: 0.5887\n",
            "Epoch 10/10\n",
            "81/81 [==============================] - 33s 405ms/step - loss: 0.0483 - accuracy: 0.9832 - val_loss: 1.5918 - val_accuracy: 0.5795\n"
          ],
          "name": "stdout"
        }
      ]
    },
    {
      "cell_type": "code",
      "metadata": {
        "id": "UHr6z_LIz3RE"
      },
      "source": [
        "# save the model\n",
        "tf.keras.models.save_model(model, 'shagoto1sentiment.h5', save_format='h5')\n",
        "#model.save('Document_Categorization.h5')"
      ],
      "execution_count": null,
      "outputs": []
    },
    {
      "cell_type": "code",
      "metadata": {
        "id": "ef3mzRRS0DIV",
        "colab": {
          "base_uri": "https://localhost:8080/",
          "height": 497
        },
        "outputId": "a9063011-dc65-468d-e433-43a03d2dd6f7"
      },
      "source": [
        "loss_values = history.history['loss']\n",
        "val_loss_values = history.history['val_loss']\n",
        "acc = history.history['accuracy']\n",
        "val_acc = history.history['val_accuracy']\n",
        "epochs = range(1, len(acc) + 1)\n",
        "sns.set_style('darkgrid')\n",
        "                  #=========================================================\n",
        "                  ############### Epochs vs Validation Accuracy Plot ##########\n",
        "                  #==========================================================\n",
        "\n",
        "plt.plot(epochs, acc, color='midnightblue', linewidth = 2,\n",
        "          marker='o', markersize=8,label='Training Accuracy')\n",
        "plt.plot(epochs, val_acc, color='darkred', linewidth = 2,\n",
        "          marker='o', markersize=8,label='Training Accuracy')\n",
        "plt.title('Training and validation accuracy',fontsize=12,fontweight='bold')\n",
        "plt.xlabel('Epochs',fontsize=12,fontweight='bold')\n",
        "plt.ylabel('Accuracy',fontsize=12,fontweight='bold')\n",
        "plt.legend(['Training Accuracy','Validation Accuracy'])"
      ],
      "execution_count": null,
      "outputs": [
        {
          "output_type": "execute_result",
          "data": {
            "text/plain": [
              "<matplotlib.legend.Legend at 0x7ffae9fbac88>"
            ]
          },
          "metadata": {
            "tags": []
          },
          "execution_count": 39
        },
        {
          "output_type": "display_data",
          "data": {
            "image/png": "[encoded data removed]",
            "text/plain": [
              "<Figure size 640x480 with 1 Axes>"
            ]
          },
          "metadata": {
            "tags": []
          }
        }
      ]
    },
    {
      "cell_type": "code",
      "metadata": {
        "colab": {
          "base_uri": "https://localhost:8080/",
          "height": 204
        },
        "id": "BsvUpx1c0NDU",
        "outputId": "1b19e7c1-7335-4d6c-bb49-8f06e743b8b1"
      },
      "source": [
        "class_names = ['fake','real']\n",
        "predictions = model.predict(X_test)\n",
        "y_pred = np.argmax(predictions, axis=1)\n",
        "report = pd.DataFrame(classification_report(y_true = y_test, y_pred = y_pred, output_dict=True)).transpose()\n",
        "report = report.rename(index={'0':'fake', '1': 'real'})\n",
        "report[['precision','recall','f1-score']]=report[['precision','recall','f1-score']].apply(lambda x: round(x*100,2))\n",
        "report\n",
        "\n"
      ],
      "execution_count": null,
      "outputs": [
        {
          "output_type": "execute_result",
          "data": {
            "text/html": [
              "<div>\n",
              "<style scoped>\n",
              "    .dataframe tbody tr th:only-of-type {\n",
              "        vertical-align: middle;\n",
              "    }\n",
              "\n",
              "    .dataframe tbody tr th {\n",
              "        vertical-align: top;\n",
              "    }\n",
              "\n",
              "    .dataframe thead th {\n",
              "        text-align: right;\n",
              "    }\n",
              "</style>\n",
              "<table border=\"1\" class=\"dataframe\">\n",
              "  <thead>\n",
              "    <tr style=\"text-align: right;\">\n",
              "      <th></th>\n",
              "      <th>precision</th>\n",
              "      <th>recall</th>\n",
              "      <th>f1-score</th>\n",
              "      <th>support</th>\n",
              "    </tr>\n",
              "  </thead>\n",
              "  <tbody>\n",
              "    <tr>\n",
              "      <th>fake</th>\n",
              "      <td>58.20</td>\n",
              "      <td>52.46</td>\n",
              "      <td>55.18</td>\n",
              "      <td>345.000000</td>\n",
              "    </tr>\n",
              "    <tr>\n",
              "      <th>real</th>\n",
              "      <td>59.90</td>\n",
              "      <td>65.33</td>\n",
              "      <td>62.50</td>\n",
              "      <td>375.000000</td>\n",
              "    </tr>\n",
              "    <tr>\n",
              "      <th>accuracy</th>\n",
              "      <td>59.17</td>\n",
              "      <td>59.17</td>\n",
              "      <td>59.17</td>\n",
              "      <td>0.591667</td>\n",
              "    </tr>\n",
              "    <tr>\n",
              "      <th>macro avg</th>\n",
              "      <td>59.05</td>\n",
              "      <td>58.90</td>\n",
              "      <td>58.84</td>\n",
              "      <td>720.000000</td>\n",
              "    </tr>\n",
              "    <tr>\n",
              "      <th>weighted avg</th>\n",
              "      <td>59.09</td>\n",
              "      <td>59.17</td>\n",
              "      <td>58.99</td>\n",
              "      <td>720.000000</td>\n",
              "    </tr>\n",
              "  </tbody>\n",
              "</table>\n",
              "</div>"
            ],
            "text/plain": [
              "              precision  recall  f1-score     support\n",
              "fake              58.20   52.46     55.18  345.000000\n",
              "real              59.90   65.33     62.50  375.000000\n",
              "accuracy          59.17   59.17     59.17    0.591667\n",
              "macro avg         59.05   58.90     58.84  720.000000\n",
              "weighted avg      59.09   59.17     58.99  720.000000"
            ]
          },
          "metadata": {
            "tags": []
          },
          "execution_count": 40
        }
      ]
    },
    {
      "cell_type": "code",
      "metadata": {
        "colab": {
          "base_uri": "https://localhost:8080/",
          "height": 593
        },
        "id": "H4Ld0wH_BWdk",
        "outputId": "eeb49de4-03c3-4d06-f97f-9087c3057fdf"
      },
      "source": [
        "from sklearn.metrics import classification_report, confusion_matrix\n",
        "predictions = model.predict(X_test)\n",
        "y_pred = np.argmax(predictions, axis=1)\n",
        "\n",
        "cm = confusion_matrix(y_test, y_pred)\n",
        "\n",
        "class_names =  ['fake','real']\n",
        "# Transform to df for easier plotting\n",
        "cm_df = pd.DataFrame(cm,\n",
        "                     index = class_names,\n",
        "                     columns = class_names)\n",
        "\n",
        "plt.figure(figsize=(8,6))\n",
        "sns.heatmap(cm_df, annot=True,cmap=\"Blues\", fmt='g')\n",
        "plt.title('CNN-BiLSTM \\nAccuracy: {0:.2f}'.format(accuracy_score(y_test, y_pred)*100))\n",
        "plt.ylabel('True label')\n",
        "plt.xlabel('Predicted label')\n",
        "plt.xticks(rotation = 180)\n",
        "plt.yticks(rotation = 360)\n",
        "plt.show()"
      ],
      "execution_count": null,
      "outputs": [
        {
          "output_type": "display_data",
          "data": {
            "image/png": "[encoded data removed]",
            "text/plain": [
              "<Figure size 800x600 with 2 Axes>"
            ]
          },
          "metadata": {
            "tags": []
          }
        }
      ]
    },
    {
      "cell_type": "code",
      "metadata": {
        "colab": {
          "base_uri": "https://localhost:8080/",
          "height": 103
        },
        "id": "xiEDBxZZBqlU",
        "outputId": "5803b834-34d3-43df-af93-2bd10ad6fb1f"
      },
      "source": [
        "sample_news = input()\n",
        "cleaned_news = cleaning_documents(sample_news)\n",
        "\n",
        "class_names = ['fake','real']\n",
        "\n",
        "#print(cleaned_news)\n",
        "# load the saved tokenizer\n",
        "with open('tokenizer.pickle', 'rb') as handle:\n",
        "    loaded_tokenizer = pickle.load(handle)\n",
        "#print(len(loaded_tokenizer.word_index))\n",
        "seq= loaded_tokenizer.texts_to_sequences([cleaned_news])\n",
        "padded = pad_sequences(seq, value=0.0,padding='post', maxlen= 300 )\n",
        "pred = model.predict(padded)\n",
        "print(pred)\n",
        "class_names[np.argmax(pred)]\n",
        "\n"
      ],
      "execution_count": null,
      "outputs": [
        {
          "output_type": "stream",
          "text": [
            "fvbr\n",
            "[[9.2584503e-01 7.4131198e-02 6.1699564e-07 5.5585957e-07 3.4912175e-06\n",
            "  9.0789416e-07 5.1344671e-07 1.6760665e-06 1.8344321e-06 8.0615501e-07\n",
            "  1.8880157e-06 4.5156194e-06 3.2313988e-06 3.7032487e-06]]\n"
          ],
          "name": "stdout"
        },
        {
          "output_type": "execute_result",
          "data": {
            "application/vnd.google.colaboratory.intrinsic+json": {
              "type": "string"
            },
            "text/plain": [
              "'fake'"
            ]
          },
          "metadata": {
            "tags": []
          },
          "execution_count": 42
        }
      ]
    },
    {
      "cell_type": "code",
      "metadata": {
        "id": "NlWdDz2RDa6F"
      },
      "source": [
        "ypred1=model.predict(X_test)"
      ],
      "execution_count": null,
      "outputs": []
    },
    {
      "cell_type": "code",
      "metadata": {
        "id": "NWZ6F55dE_SF"
      },
      "source": [],
      "execution_count": null,
      "outputs": []
    },
    {
      "cell_type": "code",
      "metadata": {
        "colab": {
          "base_uri": "https://localhost:8080/"
        },
        "id": "XX57ipHwFHVU",
        "outputId": "65d0363b-b1e2-43d8-eb74-1a7c464473fe"
      },
      "source": [
        "predictions = model.predict(X_test)\n",
        "y_pred = np.argmax(predictions, axis=1)\n",
        "report = pd.DataFrame(classification_report(y_true = y_test, y_pred = y_pred, output_dict=True)).transpose()"
      ],
      "execution_count": null,
      "outputs": [
        {
          "output_type": "stream",
          "text": [
            "/usr/local/lib/python3.6/dist-packages/sklearn/metrics/_classification.py:1272: UndefinedMetricWarning: Precision and F-score are ill-defined and being set to 0.0 in labels with no predicted samples. Use `zero_division` parameter to control this behavior.\n",
            "  _warn_prf(average, modifier, msg_start, len(result))\n"
          ],
          "name": "stderr"
        }
      ]
    },
    {
      "cell_type": "code",
      "metadata": {
        "colab": {
          "base_uri": "https://localhost:8080/",
          "height": 731
        },
        "id": "eyr9TXD5FTzc",
        "outputId": "c5019ebc-afdc-4525-b5ea-4e9a9bbca1df"
      },
      "source": [
        "report"
      ],
      "execution_count": null,
      "outputs": [
        {
          "output_type": "execute_result",
          "data": {
            "text/html": [
              "<div>\n",
              "<style scoped>\n",
              "    .dataframe tbody tr th:only-of-type {\n",
              "        vertical-align: middle;\n",
              "    }\n",
              "\n",
              "    .dataframe tbody tr th {\n",
              "        vertical-align: top;\n",
              "    }\n",
              "\n",
              "    .dataframe thead th {\n",
              "        text-align: right;\n",
              "    }\n",
              "</style>\n",
              "<table border=\"1\" class=\"dataframe\">\n",
              "  <thead>\n",
              "    <tr style=\"text-align: right;\">\n",
              "      <th></th>\n",
              "      <th>precision</th>\n",
              "      <th>recall</th>\n",
              "      <th>f1-score</th>\n",
              "      <th>support</th>\n",
              "    </tr>\n",
              "  </thead>\n",
              "  <tbody>\n",
              "    <tr>\n",
              "      <th>0</th>\n",
              "      <td>0.466667</td>\n",
              "      <td>0.350000</td>\n",
              "      <td>0.400000</td>\n",
              "      <td>80.00000</td>\n",
              "    </tr>\n",
              "    <tr>\n",
              "      <th>1</th>\n",
              "      <td>0.333333</td>\n",
              "      <td>0.222222</td>\n",
              "      <td>0.266667</td>\n",
              "      <td>9.00000</td>\n",
              "    </tr>\n",
              "    <tr>\n",
              "      <th>2</th>\n",
              "      <td>0.000000</td>\n",
              "      <td>0.000000</td>\n",
              "      <td>0.000000</td>\n",
              "      <td>4.00000</td>\n",
              "    </tr>\n",
              "    <tr>\n",
              "      <th>3</th>\n",
              "      <td>0.529940</td>\n",
              "      <td>0.477089</td>\n",
              "      <td>0.502128</td>\n",
              "      <td>371.00000</td>\n",
              "    </tr>\n",
              "    <tr>\n",
              "      <th>4</th>\n",
              "      <td>0.737288</td>\n",
              "      <td>0.644444</td>\n",
              "      <td>0.687747</td>\n",
              "      <td>135.00000</td>\n",
              "    </tr>\n",
              "    <tr>\n",
              "      <th>5</th>\n",
              "      <td>0.134021</td>\n",
              "      <td>0.094203</td>\n",
              "      <td>0.110638</td>\n",
              "      <td>276.00000</td>\n",
              "    </tr>\n",
              "    <tr>\n",
              "      <th>6</th>\n",
              "      <td>0.538462</td>\n",
              "      <td>0.714286</td>\n",
              "      <td>0.614035</td>\n",
              "      <td>49.00000</td>\n",
              "    </tr>\n",
              "    <tr>\n",
              "      <th>7</th>\n",
              "      <td>0.000000</td>\n",
              "      <td>0.000000</td>\n",
              "      <td>0.000000</td>\n",
              "      <td>9.00000</td>\n",
              "    </tr>\n",
              "    <tr>\n",
              "      <th>8</th>\n",
              "      <td>0.430233</td>\n",
              "      <td>0.430233</td>\n",
              "      <td>0.430233</td>\n",
              "      <td>86.00000</td>\n",
              "    </tr>\n",
              "    <tr>\n",
              "      <th>9</th>\n",
              "      <td>0.731481</td>\n",
              "      <td>0.622047</td>\n",
              "      <td>0.672340</td>\n",
              "      <td>127.00000</td>\n",
              "    </tr>\n",
              "    <tr>\n",
              "      <th>11</th>\n",
              "      <td>0.925532</td>\n",
              "      <td>0.734177</td>\n",
              "      <td>0.818824</td>\n",
              "      <td>237.00000</td>\n",
              "    </tr>\n",
              "    <tr>\n",
              "      <th>12</th>\n",
              "      <td>0.375000</td>\n",
              "      <td>0.142857</td>\n",
              "      <td>0.206897</td>\n",
              "      <td>21.00000</td>\n",
              "    </tr>\n",
              "    <tr>\n",
              "      <th>13</th>\n",
              "      <td>0.534459</td>\n",
              "      <td>0.693431</td>\n",
              "      <td>0.603654</td>\n",
              "      <td>548.00000</td>\n",
              "    </tr>\n",
              "    <tr>\n",
              "      <th>14</th>\n",
              "      <td>0.718085</td>\n",
              "      <td>0.562500</td>\n",
              "      <td>0.630841</td>\n",
              "      <td>240.00000</td>\n",
              "    </tr>\n",
              "    <tr>\n",
              "      <th>16</th>\n",
              "      <td>0.619718</td>\n",
              "      <td>0.523810</td>\n",
              "      <td>0.567742</td>\n",
              "      <td>84.00000</td>\n",
              "    </tr>\n",
              "    <tr>\n",
              "      <th>17</th>\n",
              "      <td>0.876161</td>\n",
              "      <td>0.827485</td>\n",
              "      <td>0.851128</td>\n",
              "      <td>342.00000</td>\n",
              "    </tr>\n",
              "    <tr>\n",
              "      <th>18</th>\n",
              "      <td>0.000000</td>\n",
              "      <td>0.000000</td>\n",
              "      <td>0.000000</td>\n",
              "      <td>1.00000</td>\n",
              "    </tr>\n",
              "    <tr>\n",
              "      <th>20</th>\n",
              "      <td>0.870550</td>\n",
              "      <td>0.886326</td>\n",
              "      <td>0.878367</td>\n",
              "      <td>1821.00000</td>\n",
              "    </tr>\n",
              "    <tr>\n",
              "      <th>21</th>\n",
              "      <td>0.803089</td>\n",
              "      <td>0.907306</td>\n",
              "      <td>0.852023</td>\n",
              "      <td>917.00000</td>\n",
              "    </tr>\n",
              "    <tr>\n",
              "      <th>accuracy</th>\n",
              "      <td>0.734740</td>\n",
              "      <td>0.734740</td>\n",
              "      <td>0.734740</td>\n",
              "      <td>0.73474</td>\n",
              "    </tr>\n",
              "    <tr>\n",
              "      <th>macro avg</th>\n",
              "      <td>0.506527</td>\n",
              "      <td>0.464864</td>\n",
              "      <td>0.478593</td>\n",
              "      <td>5357.00000</td>\n",
              "    </tr>\n",
              "    <tr>\n",
              "      <th>weighted avg</th>\n",
              "      <td>0.727199</td>\n",
              "      <td>0.734740</td>\n",
              "      <td>0.727412</td>\n",
              "      <td>5357.00000</td>\n",
              "    </tr>\n",
              "  </tbody>\n",
              "</table>\n",
              "</div>"
            ],
            "text/plain": [
              "              precision    recall  f1-score     support\n",
              "0              0.466667  0.350000  0.400000    80.00000\n",
              "1              0.333333  0.222222  0.266667     9.00000\n",
              "2              0.000000  0.000000  0.000000     4.00000\n",
              "3              0.529940  0.477089  0.502128   371.00000\n",
              "4              0.737288  0.644444  0.687747   135.00000\n",
              "5              0.134021  0.094203  0.110638   276.00000\n",
              "6              0.538462  0.714286  0.614035    49.00000\n",
              "7              0.000000  0.000000  0.000000     9.00000\n",
              "8              0.430233  0.430233  0.430233    86.00000\n",
              "9              0.731481  0.622047  0.672340   127.00000\n",
              "11             0.925532  0.734177  0.818824   237.00000\n",
              "12             0.375000  0.142857  0.206897    21.00000\n",
              "13             0.534459  0.693431  0.603654   548.00000\n",
              "14             0.718085  0.562500  0.630841   240.00000\n",
              "16             0.619718  0.523810  0.567742    84.00000\n",
              "17             0.876161  0.827485  0.851128   342.00000\n",
              "18             0.000000  0.000000  0.000000     1.00000\n",
              "20             0.870550  0.886326  0.878367  1821.00000\n",
              "21             0.803089  0.907306  0.852023   917.00000\n",
              "accuracy       0.734740  0.734740  0.734740     0.73474\n",
              "macro avg      0.506527  0.464864  0.478593  5357.00000\n",
              "weighted avg   0.727199  0.734740  0.727412  5357.00000"
            ]
          },
          "metadata": {
            "tags": []
          },
          "execution_count": 58
        }
      ]
    },
    {
      "cell_type": "code",
      "metadata": {
        "colab": {
          "base_uri": "https://localhost:8080/",
          "height": 180
        },
        "id": "L51CVPkiFXXs",
        "outputId": "7cbda1ff-4f32-4716-97b6-74d4e9ba20dd"
      },
      "source": [
        "le_name_mapping = dict(zip(labels.classes_, labels.transform(labels.classes_)))\n",
        "print(le_name_mapping)\n"
      ],
      "execution_count": null,
      "outputs": [
        {
          "output_type": "error",
          "ename": "AttributeError",
          "evalue": "ignored",
          "traceback": [
            "\u001b[0;31m---------------------------------------------------------------------------\u001b[0m",
            "\u001b[0;31mAttributeError\u001b[0m                            Traceback (most recent call last)",
            "\u001b[0;32m<ipython-input-63-c602bf8b931d>\u001b[0m in \u001b[0;36m<module>\u001b[0;34m()\u001b[0m\n\u001b[0;32m----> 1\u001b[0;31m \u001b[0mle_name_mapping\u001b[0m \u001b[0;34m=\u001b[0m \u001b[0mdict\u001b[0m\u001b[0;34m(\u001b[0m\u001b[0mzip\u001b[0m\u001b[0;34m(\u001b[0m\u001b[0mlabels\u001b[0m\u001b[0;34m.\u001b[0m\u001b[0mclasses_\u001b[0m\u001b[0;34m,\u001b[0m \u001b[0mlabels\u001b[0m\u001b[0;34m.\u001b[0m\u001b[0mtransform\u001b[0m\u001b[0;34m(\u001b[0m\u001b[0mlabels\u001b[0m\u001b[0;34m.\u001b[0m\u001b[0mclasses_\u001b[0m\u001b[0;34m)\u001b[0m\u001b[0;34m)\u001b[0m\u001b[0;34m)\u001b[0m\u001b[0;34m\u001b[0m\u001b[0;34m\u001b[0m\u001b[0m\n\u001b[0m\u001b[1;32m      2\u001b[0m \u001b[0mprint\u001b[0m\u001b[0;34m(\u001b[0m\u001b[0mle_name_mapping\u001b[0m\u001b[0;34m)\u001b[0m\u001b[0;34m\u001b[0m\u001b[0;34m\u001b[0m\u001b[0m\n",
            "\u001b[0;31mAttributeError\u001b[0m: 'numpy.ndarray' object has no attribute 'classes_'"
          ]
        }
      ]
    },
    {
      "cell_type": "code",
      "metadata": {
        "colab": {
          "base_uri": "https://localhost:8080/"
        },
        "id": "ET1FGCxmFk0N",
        "outputId": "8aa6aa28-bfd7-4f10-facd-f05535387826"
      },
      "source": [
        "labels"
      ],
      "execution_count": null,
      "outputs": [
        {
          "output_type": "execute_result",
          "data": {
            "text/plain": [
              "array([13, 13, 13, ..., 20, 20, 20])"
            ]
          },
          "metadata": {
            "tags": []
          },
          "execution_count": 65
        }
      ]
    },
    {
      "cell_type": "code",
      "metadata": {
        "id": "rqmrqufoGT0l"
      },
      "source": [],
      "execution_count": null,
      "outputs": []
    },
    {
      "cell_type": "code",
      "metadata": {
        "colab": {
          "base_uri": "https://localhost:8080/"
        },
        "id": "MbFyjcj2iPjV",
        "outputId": "51e1989d-492c-4fce-ebd7-a2c7d9ec4520"
      },
      "source": [
        "from sklearn import svm\n",
        "clf = svm.LinearSVC()\n",
        "clf.fit(X_train, y_train)"
      ],
      "execution_count": null,
      "outputs": [
        {
          "output_type": "stream",
          "text": [
            "/usr/local/lib/python3.6/dist-packages/sklearn/svm/_base.py:947: ConvergenceWarning: Liblinear failed to converge, increase the number of iterations.\n",
            "  \"the number of iterations.\", ConvergenceWarning)\n"
          ],
          "name": "stderr"
        },
        {
          "output_type": "execute_result",
          "data": {
            "text/plain": [
              "LinearSVC(C=1.0, class_weight=None, dual=True, fit_intercept=True,\n",
              "          intercept_scaling=1, loss='squared_hinge', max_iter=1000,\n",
              "          multi_class='ovr', penalty='l2', random_state=None, tol=0.0001,\n",
              "          verbose=0)"
            ]
          },
          "metadata": {
            "tags": []
          },
          "execution_count": 18
        }
      ]
    },
    {
      "cell_type": "code",
      "metadata": {
        "id": "evV2-lkqAcUw"
      },
      "source": [],
      "execution_count": null,
      "outputs": []
    },
    {
      "cell_type": "code",
      "metadata": {
        "id": "fMf9U2G7iPjV"
      },
      "source": [
        "ypred=clf.predict(X_test)"
      ],
      "execution_count": null,
      "outputs": []
    },
    {
      "cell_type": "code",
      "metadata": {
        "colab": {
          "base_uri": "https://localhost:8080/"
        },
        "id": "6Iusg71CAf-i",
        "outputId": "58b0a61d-af2e-4b47-a30f-7a64fec49fa5"
      },
      "source": [
        "from sklearn.metrics import accuracy_score\n",
        "print(accuracy_score(y_test, ypred))"
      ],
      "execution_count": null,
      "outputs": [
        {
          "output_type": "stream",
          "text": [
            "0.1570838030815483\n"
          ],
          "name": "stdout"
        }
      ]
    },
    {
      "cell_type": "code",
      "metadata": {
        "id": "OCZQgNyvAiJ6"
      },
      "source": [
        "import pickle\n",
        "filename = 'svmaricledl.sav'\n",
        "pickle.dump(clf, open(filename, 'wb'))"
      ],
      "execution_count": null,
      "outputs": []
    },
    {
      "cell_type": "code",
      "metadata": {
        "id": "uQsueQ4eAmoq"
      },
      "source": [],
      "execution_count": null,
      "outputs": []
    }
  ]
}